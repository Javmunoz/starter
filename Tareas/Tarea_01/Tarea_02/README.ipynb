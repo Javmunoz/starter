{
  "nbformat": 4,
  "nbformat_minor": 0,
  "metadata": {
    "colab": {
      "provenance": []
    },
    "kernelspec": {
      "name": "python3",
      "display_name": "Python 3"
    },
    "language_info": {
      "name": "python"
    }
  },
  "cells": [
    {
      "cell_type": "code",
      "execution_count": null,
      "metadata": {
        "colab": {
          "base_uri": "https://localhost:8080/"
        },
        "id": "ELDtB7jFnEKh",
        "outputId": "d6e2b2ee-e0b1-41d6-8c94-4bea1b319594"
      },
      "outputs": [
        {
          "output_type": "stream",
          "name": "stdout",
          "text": [
            "1\n",
            "2\n",
            "3\n",
            "4\n",
            "5\n",
            "6\n",
            "7\n",
            "8\n",
            "9\n",
            "10\n",
            "11\n",
            "12\n",
            "13\n",
            "14\n",
            "15\n",
            "16\n",
            "17\n",
            "18\n",
            "19\n",
            "20\n",
            "21\n",
            "22\n",
            "23\n",
            "24\n",
            "25\n",
            "26\n",
            "27\n",
            "28\n",
            "29\n",
            "30\n",
            "31\n",
            "32\n",
            "33\n",
            "34\n",
            "35\n",
            "36\n",
            "37\n",
            "38\n",
            "39\n",
            "40\n",
            "41\n",
            "42\n",
            "43\n",
            "44\n",
            "45\n",
            "46\n",
            "47\n",
            "48\n",
            "49\n",
            "50\n",
            "51\n",
            "52\n",
            "53\n",
            "54\n",
            "55\n",
            "56\n",
            "57\n",
            "58\n",
            "59\n",
            "60\n",
            "61\n",
            "62\n",
            "63\n",
            "64\n",
            "65\n",
            "66\n",
            "67\n",
            "68\n",
            "69\n",
            "70\n",
            "71\n",
            "72\n",
            "73\n",
            "74\n",
            "75\n",
            "76\n",
            "77\n",
            "78\n",
            "79\n",
            "80\n",
            "81\n",
            "82\n",
            "83\n",
            "84\n",
            "85\n",
            "86\n",
            "87\n",
            "88\n",
            "89\n",
            "90\n",
            "91\n",
            "92\n",
            "93\n",
            "94\n",
            "95\n",
            "96\n",
            "97\n",
            "98\n",
            "99\n",
            "100\n"
          ]
        }
      ],
      "source": [
        "# programa que imprima los número del 1 al 100\n",
        "for x in range(100):\n",
        "  print(x+1)"
      ]
    },
    {
      "cell_type": "code",
      "source": [
        "# programa que imprima los números del 1 al 100 que sean divisibles\n",
        "for x in range(100):\n",
        "  if (x+1) % 3 == 0:\n",
        "    print(x+1)"
      ],
      "metadata": {
        "colab": {
          "base_uri": "https://localhost:8080/"
        },
        "id": "iIVvRonBnl45",
        "outputId": "8779e00d-175b-4682-cded-ae342cf2424c"
      },
      "execution_count": null,
      "outputs": [
        {
          "output_type": "stream",
          "name": "stdout",
          "text": [
            "3\n",
            "6\n",
            "9\n",
            "12\n",
            "15\n",
            "18\n",
            "21\n",
            "24\n",
            "27\n",
            "30\n",
            "33\n",
            "36\n",
            "39\n",
            "42\n",
            "45\n",
            "48\n",
            "51\n",
            "54\n",
            "57\n",
            "60\n",
            "63\n",
            "66\n",
            "69\n",
            "72\n",
            "75\n",
            "78\n",
            "81\n",
            "84\n",
            "87\n",
            "90\n",
            "93\n",
            "96\n",
            "99\n"
          ]
        }
      ]
    },
    {
      "cell_type": "code",
      "source": [
        "numero_1 = int(input(\"ingrese un numero\"))\n",
        "numero_2 = int(input(\"ingrese un numero\"))\n",
        "suma = numero_1 + numero_2\n",
        "resultado = \"\"\n",
        "\n",
        "if(suma<100):\n",
        "  resultado = \"menor a 100\"\n",
        "elif(suma>100 and suma<150):\n",
        "  resultado = \"mayor a 100 y menor a 150\"\n",
        "elif(suma>150):\n",
        "  resultado = \"mayor a 150\"\n",
        "elif(suma == 150):\n",
        "  resultado = \"igual a 150\"\n",
        "print(resultado)"
      ],
      "metadata": {
        "colab": {
          "base_uri": "https://localhost:8080/"
        },
        "id": "TSzkwuA2oLDX",
        "outputId": "ad47c1ff-41e6-4bad-810a-091676ed8a6b"
      },
      "execution_count": 10,
      "outputs": [
        {
          "output_type": "stream",
          "name": "stdout",
          "text": [
            "ingrese un numero120\n",
            "ingrese un numero30\n",
            "igual a 150\n"
          ]
        }
      ]
    },
    {
      "cell_type": "code",
      "source": [
        "# Este código evaluará la edad del usuario y si le gusta o no la programación\n",
        "def evaluación(edad, gusta_programar):\n",
        "  if edad >= 18:           #condiciono que la persona tiene más de 18 años\n",
        "      if gusta_programar == \"si\":       #Si aparte de ser mayor de edad, si le gusta programar\n",
        "        return \"Eres mayor de edad y te gusta programar\" #que me retorne esto, como mensaje\n",
        "      else:   #si pasa lo contrario, que me retorne que no le guste programar.\n",
        "        return \"Eres mayor de edad, pero no te gusta programar\"\n",
        "  else:\n",
        "      if gusta_programar == \"si\":\n",
        "        return \"No eres mayor de edad y te gusta programar\"\n",
        "      else:\n",
        "        return \"No eres mayor de edad y tampoco te gusta programar\"\n",
        "\n",
        "# Preguntar la edad y si le gusta programar o no\n",
        "Edad=int(input(\"oye usuario, ¿cuál es tu edad?\")) #código que permite al usuario ingresar un número\n",
        "Pregunta=(input(\"¿te gusta programar?\"))\n",
        "\n",
        "Resultado_encuesta = evaluación(Edad, Pregunta)\n",
        "print(Resultado_encuesta)"
      ],
      "metadata": {
        "id": "AiuPfO2mplad",
        "outputId": "6b144b39-31b2-40da-be08-f64e1b7b8f51",
        "colab": {
          "base_uri": "https://localhost:8080/"
        }
      },
      "execution_count": 7,
      "outputs": [
        {
          "output_type": "stream",
          "name": "stdout",
          "text": [
            "oye usuario, ¿cuál es tu edad?40\n",
            "¿te gusta programar?si\n",
            "Eres mayor de edad y te gusta programar\n"
          ]
        }
      ]
    }
  ]
}